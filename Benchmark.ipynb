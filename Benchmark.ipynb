{
 "cells": [
  {
   "cell_type": "code",
   "execution_count": 1,
   "metadata": {},
   "outputs": [
    {
     "name": "stderr",
     "output_type": "stream",
     "text": [
      "/home/entropy/.local/lib/python3.8/site-packages/fuzzywuzzy/fuzz.py:11: UserWarning: Using slow pure-python SequenceMatcher. Install python-Levenshtein to remove this warning\n",
      "  warnings.warn('Using slow pure-python SequenceMatcher. Install python-Levenshtein to remove this warning')\n"
     ]
    }
   ],
   "source": [
    "import string\n",
    "import random\n",
    "import math\n",
    "from fuzzywuzzy import fuzz\n",
    "from difflib import *\n",
    "import time"
   ]
  },
  {
   "cell_type": "code",
   "execution_count": 2,
   "metadata": {},
   "outputs": [],
   "source": [
    "def similar(a, b):\n",
    "    return SequenceMatcher(None, a, b).ratio()\n",
    "\n",
    "class Agent:\n",
    "\n",
    "    def __init__(self, length):\n",
    "\n",
    "        self.params = [random.uniform(2,4),random.uniform(0.1,4)] #(a,d) \n",
    "        self.fitness = -1\n",
    "\n",
    "#     def __str__(self):\n",
    "\n",
    "#         return 'Params: ' + str(self.params) + ' Fitness: ' + str(self.fitness)\n",
    "\n",
    "def init_agents(population, length):\n",
    "    return [Agent(length) for _ in range(population)]\n",
    "\n",
    "def ga():\n",
    "\n",
    "    agents = init_agents(population, in_str_len)\n",
    "\n",
    "    for generation in range(generations):\n",
    "\n",
    "#         print('Generation: ' + str(generation))\n",
    "\n",
    "        temp_fitness = []\n",
    "        \n",
    "        agents = fitness(agents)\n",
    "\n",
    "        for agent in agents:\n",
    "            temp_fitness.append(agent.fitness)\n",
    "\n",
    "        # print(temp_fitness)\n",
    "\n",
    "        current_max_fitness = max(temp_fitness)\n",
    "\n",
    "        count = temp_fitness.count(current_max_fitness)\n",
    "\n",
    "#         print('Current_max_fitness',current_max_fitness)\n",
    "#         print('Count: ',count)\n",
    "\n",
    "        if count/len(agents) >= 0.5 and current_max_fitness >= 90:\n",
    "#             print('Bazinga!')\n",
    "            break\n",
    "\n",
    "        agents = selection(agents)\n",
    "        agents = crossover(agents)\n",
    "        agents = mutation(agents)\n",
    "\n",
    "\n",
    "\n",
    "def ani_jackard(s1,s2):\n",
    "    str1 = [ord(i) for i in s1]\n",
    "    str2 = [ord(i) for i in s2]\n",
    "\n",
    "    str1 = set(str1)\n",
    "    str2 = set(str2)\n",
    "\n",
    "    score = (str1 & str2)\n",
    "    score_u = str1|str2\n",
    "\n",
    "    return 100-(len(score)/len(score_u))*100\n",
    "\n",
    "\n",
    "def fitness(agents):\n",
    "\n",
    "    for agent in agents:\n",
    "\n",
    "        a = agent.params[0]\n",
    "        d = agent.params[1]\n",
    "\n",
    "        cipher = encrypt(plaintext,a,d)\n",
    "\n",
    "        # agent.fitness = 100-fuzz.ratio(plaintext,cipher)\n",
    "        agent.fitness = ani_jackard(plaintext,cipher)\n",
    "\n",
    "    return agents\n",
    "\n",
    "def selection(agents):\n",
    "    agents = sorted(agents, key=lambda agent: agent.fitness, reverse=True)\n",
    "#     print('\\n'.join(map(str, agents)))\n",
    "    agents = agents[:int(0.2 * len(agents))]\n",
    "    return agents\n",
    "\n",
    "def crossover(agents):\n",
    "\n",
    "    offspring = []\n",
    "\n",
    "    for _ in range((population - len(agents)) // 2):\n",
    "\n",
    "        parent1 = random.choice(agents)\n",
    "        parent2 = random.choice(agents)\n",
    "        child1 = Agent(2)\n",
    "        child2 = Agent(2)\n",
    "        # split = random.randint(0, in_str_len)\n",
    "        child1.params = [parent1.params[0],parent2.params[1]]\n",
    "        child2.params = [parent2.params[0],parent1.params[1]]\n",
    "\n",
    "        offspring.append(child1)\n",
    "        offspring.append(child2)\n",
    "\n",
    "    agents.extend(offspring)\n",
    "\n",
    "    return agents\n",
    "\n",
    "def mutation(agents):\n",
    "        \n",
    "    for agent in agents:\n",
    "\n",
    "        step_a = random.uniform(-0.2,0.2)\n",
    "        step_d = random.uniform(-0.2,0.2)\n",
    "        \n",
    "        if random.uniform(0.0, 1.0) <= 0.1:\n",
    "\n",
    "            agent.params[0] += step_a\n",
    "            agent.params[1] += step_d\n",
    "\n",
    "    return agents\n",
    "\n",
    "def chaotic_map(n,x_0,y_0,a,d):\n",
    "    # d = 0.3\n",
    "    # a = 2.5 \n",
    "    x=[]\n",
    "    x.append(x_0)\n",
    "    y = []\n",
    "    y.append(y_0)\n",
    "\n",
    "    for i in range(n-1):\n",
    "        x.append((x[i]+d+(a*math.sin(2*math.pi*y[i])))%1)\n",
    "        y.append(1 - a*pow(x[i],2) + y[i])\n",
    "\n",
    "    return (x,y)\n",
    "\n",
    "def float_to_shuffled_ints(x,y):\n",
    "    x_sorted = sorted(x, reverse=True)\n",
    "    y_sorted = sorted(y, reverse=True)\n",
    "\n",
    "    shuffled_x = []\n",
    "    for x_val in x:\n",
    "        if x_val in x_sorted:\n",
    "            i = x_sorted.index(x_val)\n",
    "            shuffled_x.append(i)\n",
    "\n",
    "    shuffled_y = []\n",
    "    for y_val in y:\n",
    "        if y_val in y_sorted:\n",
    "            i = y_sorted.index(y_val)\n",
    "            shuffled_y.append(i)\n",
    "\n",
    "\n",
    "    # print('shuffled_x = ',shuffled_x)\n",
    "    # print('shuffled_y = ',shuffled_y)\n",
    "\n",
    "    key = []\n",
    "    for i in shuffled_x:\n",
    "        key.append(shuffled_y[i])\n",
    "\n",
    "    return key\n",
    "\n",
    "\n",
    "\n",
    "def encrypt(plaintext,a,d):\n",
    "    ascii_lst = [ord(i) for i in plaintext]\n",
    "    n = len(ascii_lst)\n",
    "\n",
    "    ascii_avg = sum(ascii_lst)/n\n",
    "\n",
    "    x_0 = ascii_avg/max(ascii_lst)\n",
    "    y_0 = 0.2\n",
    "    (x,y) = chaotic_map(n,x_0,y_0,a,d)\n",
    "\n",
    "    private_key = float_to_shuffled_ints(x,y)\n",
    "    # print('Private Key = ',private_key)\n",
    "\n",
    "    ciphertext = []\n",
    "    for i in range(len(ascii_lst)):\n",
    "        ciphertext.append(chr(ascii_lst[i]+private_key[i]))\n",
    "\n",
    "    # print('CipherText = ',ciphertext)\n",
    "    return ''.join(ciphertext)\n",
    "\n",
    "def genesis(plaintext):\n",
    "    ga()"
   ]
  },
  {
   "cell_type": "code",
   "execution_count": 3,
   "metadata": {},
   "outputs": [],
   "source": [
    "in_str = None\n",
    "in_str_len = None\n",
    "population = 20\n",
    "generations = 10000"
   ]
  },
  {
   "cell_type": "code",
   "execution_count": 4,
   "metadata": {},
   "outputs": [
    {
     "name": "stdout",
     "output_type": "stream",
     "text": [
      "['aOBWXXJbblaZQNYUgkDJQSSbXTjiPgORudOorzwLyAPUeDHVyxCgjWUhLyvjKTLtFxlYQXeMzZHvIkchngTPKyXcaBteMmgvRuGs', 'gSqnYuxRDbrNANqDCCfwLOaNtvxjdMuWfyqwckvficRfpmZBbqZZqvzCxYjRIjNPiTDAuKzUXLyBLRHZtaqxVEONJnjyDHFibkhS', 'GSIpYUhwxkxxvuqecLbLoVppFyFcgARsiwKfayJaDjKNVQNSVoceNEoYkqGaEcRDKbtUhWYjqOCnEzzXnBwiWNocasCiasWqBYsi', 'uCOyVUAQRTuDdfdjyGvBFwbjXIiRtCFGFdizswMCsCvquNyfOMRYPxmQlXcMYOVplPWFiBjhAGZRtjSokPqIofHdpIqxEmUOwouB', 'ifMnAYJqLuChXjpGwWimqqRlXsjceHaCDxmSJsnbhNwqnecHEDTqcjXIHECbtuJODgyAHRtUeSDApeUEgnolFTJNLXaJKDQYbYsB', 'qUIbenjfAljERTqicBztzuFvPyUgENwaVQvcQCBZXOKVjjiaBBAjVxODwYMfWgmtpUtsYriSpdkiFSCMSZaKmreHnJGeVQNGazAz', 'wQEZNrbvoMsFjXADqEGhjxxjWaqiZYsaSqlouqxwdDAvgXfJPVULjIgCkPHirQuKjRTGdkEqXAdpNLlyBfKNMDfYpipVmPnwrmbc', 'bbFAsIWnGQPGUgbkxHoxLecOKfpuHqfBQMBRsnGJDMAvHbysPxTrxvPDffLlMCNHqaIfRMwAkRasrhSUxMAGwhtTaoEAAMwWDiLu', 'NnTwYjjzUXIbexZdojnUvKmdtrQhFMQcOwhdrWtnijMakDeKyYNfbTfimWvvVlQLCKeLFCbKmZRtrbHXjjOdmRsWQztElVTbqAkB', 'VBhmdBFkniKtSbIPbVUPGjMpGpaEotsCNQiFDRlBKYaVPchOHVHljFiavPPlNkBlHhMTlOUdVrjfxnoPrfjJZuDiHRwRvADdHzaC']\n"
     ]
    }
   ],
   "source": [
    "messages = []\n",
    "length = 100\n",
    "num_strings = 10\n",
    "for i in range(num_strings):\n",
    "    messages.append(''.join(random.choice(string.ascii_letters) for _ in range(length)))\n",
    "print(messages)"
   ]
  },
  {
   "cell_type": "code",
   "execution_count": 5,
   "metadata": {},
   "outputs": [
    {
     "name": "stdout",
     "output_type": "stream",
     "text": [
      "Runtime:  4.157045364379883\n",
      "Runtime:  1.8858706951141357\n",
      "Runtime:  0.511336088180542\n",
      "Runtime:  0.7046515941619873\n",
      "Runtime:  4.0319859981536865\n",
      "Runtime:  22.22178363800049\n",
      "Runtime:  2.812734603881836\n",
      "Runtime:  7.032604455947876\n",
      "Runtime:  0.29700207710266113\n",
      "Runtime:  1.5677995681762695\n"
     ]
    }
   ],
   "source": [
    "time_taken = []\n",
    "for plaintext in messages:\n",
    "    t1 = time.time()\n",
    "    genesis(plaintext)\n",
    "    t2 = time.time()\n",
    "    print('Runtime: ',t2-t1)\n",
    "    time_taken.append(t2-t1)\n"
   ]
  },
  {
   "cell_type": "code",
   "execution_count": 6,
   "metadata": {},
   "outputs": [
    {
     "name": "stdout",
     "output_type": "stream",
     "text": [
      "[0, 1, 2, 3, 4, 5, 6, 7, 8, 9]\n"
     ]
    }
   ],
   "source": [
    "message_length = []\n",
    "for i in range(num_strings):\n",
    "    message_length.append(i)\n",
    "print(message_length)"
   ]
  },
  {
   "cell_type": "code",
   "execution_count": 7,
   "metadata": {},
   "outputs": [
    {
     "data": {
      "text/plain": [
       "[<matplotlib.lines.Line2D at 0x7fc7a6369e80>]"
      ]
     },
     "execution_count": 7,
     "metadata": {},
     "output_type": "execute_result"
    },
    {
     "data": {
      "image/png": "[encoded data removed]",
      "text/plain": [
       "<Figure size 432x288 with 1 Axes>"
      ]
     },
     "metadata": {
      "needs_background": "light"
     },
     "output_type": "display_data"
    }
   ],
   "source": [
    "import matplotlib.pyplot as plt\n",
    "%matplotlib inline\n",
    "plt.figure()\n",
    "plt.plot(message_length, time_taken)"
   ]
  },
  {
   "cell_type": "code",
   "execution_count": null,
   "metadata": {},
   "outputs": [],
   "source": []
  }
 ],
 "metadata": {
  "kernelspec": {
   "display_name": "Python 3",
   "language": "python",
   "name": "python3"
  },
  "language_info": {
   "codemirror_mode": {
    "name": "ipython",
    "version": 3
   },
   "file_extension": ".py",
   "mimetype": "text/x-python",
   "name": "python",
   "nbconvert_exporter": "python",
   "pygments_lexer": "ipython3",
   "version": "3.8.2"
  }
 },
 "nbformat": 4,
 "nbformat_minor": 4
}
